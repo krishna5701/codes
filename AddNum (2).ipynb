{
 "cells": [
  {
   "cell_type": "code",
   "execution_count": 1,
   "id": "d672b776",
   "metadata": {},
   "outputs": [],
   "source": [
    "##Module with addition and subtraction functions"
   ]
  },
  {
   "cell_type": "code",
   "execution_count": 1,
   "id": "192b78b9",
   "metadata": {},
   "outputs": [],
   "source": [
    "def Add(a,b):\n",
    "    print(\"the addition is:\" + (str)(a+b))\n",
    "def Sub(a,b):\n",
    "    print(\"the subtraction is:\" + (str)(a-b))"
   ]
  },
  {
   "cell_type": "code",
   "execution_count": null,
   "id": "4dc1ed6a",
   "metadata": {},
   "outputs": [],
   "source": []
  }
 ],
 "metadata": {
  "kernelspec": {
   "display_name": "Python 3",
   "language": "python",
   "name": "python3"
  },
  "language_info": {
   "codemirror_mode": {
    "name": "ipython",
    "version": 3
   },
   "file_extension": ".py",
   "mimetype": "text/x-python",
   "name": "python",
   "nbconvert_exporter": "python",
   "pygments_lexer": "ipython3",
   "version": "3.8.8"
  }
 },
 "nbformat": 4,
 "nbformat_minor": 5
}
