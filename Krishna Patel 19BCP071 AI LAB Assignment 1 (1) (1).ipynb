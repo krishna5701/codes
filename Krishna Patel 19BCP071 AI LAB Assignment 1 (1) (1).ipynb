{
 "cells": [
  {
   "cell_type": "code",
   "execution_count": 2,
   "id": "ceb39fec",
   "metadata": {},
   "outputs": [],
   "source": [
    "##Ques 1"
   ]
  },
  {
   "cell_type": "code",
   "execution_count": 3,
   "id": "e91bc50b",
   "metadata": {},
   "outputs": [
    {
     "name": "stdout",
     "output_type": "stream",
     "text": [
      "6\n",
      "9\n",
      "the addition is:15\n",
      "the subtraction is:-3\n"
     ]
    }
   ],
   "source": [
    "%run ./AddNum.ipynb\n",
    "\n",
    "A=int(input())\n",
    "B=int(input())\n",
    "Add(A,B)\n",
    "Sub(A,B)"
   ]
  },
  {
   "cell_type": "code",
   "execution_count": 4,
   "id": "bb3a7906",
   "metadata": {},
   "outputs": [],
   "source": [
    "##Ques 2"
   ]
  },
  {
   "cell_type": "code",
   "execution_count": 5,
   "id": "56d832ec",
   "metadata": {},
   "outputs": [
    {
     "name": "stdout",
     "output_type": "stream",
     "text": [
      "Searching in :  D:\\Riot Games\n",
      "Searching in :  D:\\Riot Games\\Riot Client\n",
      "Searching in :  D:\\Riot Games\\Riot Client\\Resources\n",
      "Searching in :  D:\\Riot Games\\Riot Client\\UX\n",
      "Searching in :  D:\\Riot Games\\Riot Client\\UX\\GPUCache\n",
      "Searching in :  D:\\Riot Games\\Riot Client\\UX\\locales\n",
      "Searching in :  D:\\Riot Games\\Riot Client\\UX\\Plugins\n",
      "Searching in :  D:\\Riot Games\\Riot Client\\UX\\Plugins\\rcp-fe-keystone-react\n",
      "Searching in :  D:\\Riot Games\\Riot Client\\UX\\Plugins\\rcp-fe-plugin-runner\n",
      "Searching in :  D:\\Riot Games\\Riot Client\\UX\\swiftshader\n",
      "Searching in :  D:\\Riot Games\\VALORANT\n",
      "Searching in :  D:\\Riot Games\\VALORANT\\live\n",
      "Searching in :  D:\\Riot Games\\VALORANT\\live\\Engine\n",
      "Searching in :  D:\\Riot Games\\VALORANT\\live\\Engine\\Binaries\n",
      "Searching in :  D:\\Riot Games\\VALORANT\\live\\Engine\\Binaries\\ThirdParty\n",
      "Searching in :  D:\\Riot Games\\VALORANT\\live\\Engine\\Binaries\\ThirdParty\\CEF3\n",
      "Searching in :  D:\\Riot Games\\VALORANT\\live\\Engine\\Binaries\\ThirdParty\\CEF3\\Win64\n",
      "Searching in :  D:\\Riot Games\\VALORANT\\live\\Engine\\Binaries\\ThirdParty\\CEF3\\Win64\\Resources\n",
      "Searching in :  D:\\Riot Games\\VALORANT\\live\\Engine\\Binaries\\ThirdParty\\CEF3\\Win64\\Resources\\locales\n",
      "Searching in :  D:\\Riot Games\\VALORANT\\live\\Engine\\Binaries\\ThirdParty\\DbgHelp\n",
      "Searching in :  D:\\Riot Games\\VALORANT\\live\\Engine\\Binaries\\ThirdParty\\NVIDIA\n",
      "Searching in :  D:\\Riot Games\\VALORANT\\live\\Engine\\Binaries\\ThirdParty\\NVIDIA\\NVaftermath\n",
      "Searching in :  D:\\Riot Games\\VALORANT\\live\\Engine\\Binaries\\ThirdParty\\NVIDIA\\NVaftermath\\Win64\n",
      "Searching in :  D:\\Riot Games\\VALORANT\\live\\Engine\\Binaries\\ThirdParty\\Ogg\n",
      "Searching in :  D:\\Riot Games\\VALORANT\\live\\Engine\\Binaries\\ThirdParty\\Ogg\\Win64\n",
      "Searching in :  D:\\Riot Games\\VALORANT\\live\\Engine\\Binaries\\ThirdParty\\Ogg\\Win64\\VS2015\n",
      "Searching in :  D:\\Riot Games\\VALORANT\\live\\Engine\\Binaries\\ThirdParty\\PhysX3\n",
      "Searching in :  D:\\Riot Games\\VALORANT\\live\\Engine\\Binaries\\ThirdParty\\PhysX3\\Win64\n",
      "Searching in :  D:\\Riot Games\\VALORANT\\live\\Engine\\Binaries\\ThirdParty\\PhysX3\\Win64\\VS2015\n",
      "Searching in :  D:\\Riot Games\\VALORANT\\live\\Engine\\Binaries\\ThirdParty\\Vorbis\n",
      "Searching in :  D:\\Riot Games\\VALORANT\\live\\Engine\\Binaries\\ThirdParty\\Vorbis\\Win64\n",
      "Searching in :  D:\\Riot Games\\VALORANT\\live\\Engine\\Binaries\\ThirdParty\\Vorbis\\Win64\\VS2015\n",
      "Searching in :  D:\\Riot Games\\VALORANT\\live\\Engine\\Binaries\\ThirdParty\\Windows\n",
      "Searching in :  D:\\Riot Games\\VALORANT\\live\\Engine\\Binaries\\ThirdParty\\Windows\\XAudio2_9\n",
      "Searching in :  D:\\Riot Games\\VALORANT\\live\\Engine\\Binaries\\ThirdParty\\Windows\\XAudio2_9\\x64\n",
      "Searching in :  D:\\Riot Games\\VALORANT\\live\\Engine\\Binaries\\Win64\n",
      "Searching in :  D:\\Riot Games\\VALORANT\\live\\Engine\\Content\n",
      "Searching in :  D:\\Riot Games\\VALORANT\\live\\Engine\\Content\\SlateDebug\n",
      "Searching in :  D:\\Riot Games\\VALORANT\\live\\Engine\\Content\\SlateDebug\\Fonts\n",
      "Searching in :  D:\\Riot Games\\VALORANT\\live\\Engine\\Programs\n",
      "Searching in :  D:\\Riot Games\\VALORANT\\live\\Engine\\Programs\\CrashReportClient\n",
      "Searching in :  D:\\Riot Games\\VALORANT\\live\\Engine\\Programs\\CrashReportClient\\Content\n",
      "Searching in :  D:\\Riot Games\\VALORANT\\live\\Engine\\Programs\\CrashReportClient\\Content\\Paks\n",
      "Searching in :  D:\\Riot Games\\VALORANT\\live\\ShooterGame\n",
      "Searching in :  D:\\Riot Games\\VALORANT\\live\\ShooterGame\\Binaries\n",
      "Searching in :  D:\\Riot Games\\VALORANT\\live\\ShooterGame\\Binaries\\Win64\n",
      "Searching in :  D:\\Riot Games\\VALORANT\\live\\ShooterGame\\Binaries\\Win64\\Telemetry\n",
      "Searching in :  D:\\Riot Games\\VALORANT\\live\\ShooterGame\\Content\n",
      "Searching in :  D:\\Riot Games\\VALORANT\\live\\ShooterGame\\Content\\Movies\n",
      "Searching in :  D:\\Riot Games\\VALORANT\\live\\ShooterGame\\Content\\Movies\\Menu\n",
      "Searching in :  D:\\Riot Games\\VALORANT\\live\\ShooterGame\\Content\\Paks\n",
      "Total number of files 736\n"
     ]
    }
   ],
   "source": [
    "import os\n",
    "\n",
    "APP_FOLDER = 'D:\\Riot Games'\n",
    "\n",
    "totalFiles = 0\n",
    "\n",
    "\n",
    "for base, dirs, files in os.walk(APP_FOLDER):\n",
    "    print('Searching in : ',base)\n",
    "    for Files in files:\n",
    "        totalFiles += 1\n",
    "    \n",
    "\n",
    "\n",
    "print('Total number of files',totalFiles)\n",
    "\n"
   ]
  },
  {
   "cell_type": "code",
   "execution_count": 10,
   "id": "df44faed",
   "metadata": {},
   "outputs": [],
   "source": [
    "##Ques 3"
   ]
  },
  {
   "cell_type": "code",
   "execution_count": 11,
   "id": "d96d9f72",
   "metadata": {},
   "outputs": [
    {
     "name": "stdout",
     "output_type": "stream",
     "text": [
      "Checkerboard pattern:\n",
      "[[0 1 0 1 0 1 0 1]\n",
      " [1 0 1 0 1 0 1 0]\n",
      " [0 1 0 1 0 1 0 1]\n",
      " [1 0 1 0 1 0 1 0]\n",
      " [0 1 0 1 0 1 0 1]\n",
      " [1 0 1 0 1 0 1 0]\n",
      " [0 1 0 1 0 1 0 1]\n",
      " [1 0 1 0 1 0 1 0]]\n"
     ]
    }
   ],
   "source": [
    "import numpy as np\n",
    "print(\"Checkerboard pattern:\")\n",
    "x = np.zeros((8,8),dtype=int)\n",
    "for i in range(8):\n",
    "    for j in range(8):\n",
    "        if ((i+j)%2!=0):\n",
    "            x[i,j]=1\n",
    "print(x)\n"
   ]
  },
  {
   "cell_type": "code",
   "execution_count": 12,
   "id": "f8f05cea",
   "metadata": {},
   "outputs": [],
   "source": [
    "##Ques 4"
   ]
  },
  {
   "cell_type": "code",
   "execution_count": 13,
   "id": "c77b36d5",
   "metadata": {},
   "outputs": [
    {
     "name": "stdout",
     "output_type": "stream",
     "text": [
      "enter 5 elements for each array\n",
      "6\n",
      "9\n",
      "69\n",
      "169\n",
      "1169\n",
      "[6, 9, 69, 169, 1169]\n",
      "9\n",
      "6\n",
      "96\n",
      "196\n",
      "1196\n",
      "[9, 6, 96, 196, 1196]\n",
      "[6 9]\n"
     ]
    }
   ],
   "source": [
    "#taking two array inputs from user\n",
    "array1=[]\n",
    "array2=[]\n",
    "commonelements=[]\n",
    "print(\"enter 5 elements for each array\")\n",
    "for i in range(5):\n",
    "    ele=int(input())\n",
    "    array1.append(ele)\n",
    "print(array1)\n",
    "for i in range(5):\n",
    "    ele=int(input())\n",
    "    array2.append(ele)\n",
    "print(array2)\n",
    "for i in range(5):\n",
    "    for j in range(5):\n",
    "        if(array1[i]==array2[j]):\n",
    "            commonelements.append(array1[i])\n",
    "print(np.unique(commonelements))\n"
   ]
  },
  {
   "cell_type": "code",
   "execution_count": 14,
   "id": "b5216b1a",
   "metadata": {},
   "outputs": [],
   "source": [
    "##Ques 5"
   ]
  },
  {
   "cell_type": "code",
   "execution_count": 15,
   "id": "4a501bd9",
   "metadata": {},
   "outputs": [
    {
     "name": "stdout",
     "output_type": "stream",
     "text": [
      "Original array:\n",
      "[[1. 1. 1.]\n",
      " [1. 1. 1.]\n",
      " [1. 1. 1.]]\n",
      "0 on the border and 1 inside in the array\n",
      "[[0. 0. 0. 0. 0.]\n",
      " [0. 1. 1. 1. 0.]\n",
      " [0. 1. 1. 1. 0.]\n",
      " [0. 1. 1. 1. 0.]\n",
      " [0. 0. 0. 0. 0.]]\n"
     ]
    }
   ],
   "source": [
    "x = np.ones((3,3))\n",
    "print(\"Original array:\")\n",
    "print(x)\n",
    "print(\"0 on the border and 1 inside in the array\")\n",
    "x = np.pad(x, pad_width=1, mode='constant', constant_values=0)\n",
    "print(x)"
   ]
  },
  {
   "cell_type": "code",
   "execution_count": null,
   "id": "9940487d",
   "metadata": {},
   "outputs": [],
   "source": []
  },
  {
   "cell_type": "code",
   "execution_count": null,
   "id": "8dad6eca",
   "metadata": {},
   "outputs": [],
   "source": []
  }
 ],
 "metadata": {
  "kernelspec": {
   "display_name": "Python 3 (ipykernel)",
   "language": "python",
   "name": "python3"
  },
  "language_info": {
   "codemirror_mode": {
    "name": "ipython",
    "version": 3
   },
   "file_extension": ".py",
   "mimetype": "text/x-python",
   "name": "python",
   "nbconvert_exporter": "python",
   "pygments_lexer": "ipython3",
   "version": "3.9.7"
  }
 },
 "nbformat": 4,
 "nbformat_minor": 5
}
